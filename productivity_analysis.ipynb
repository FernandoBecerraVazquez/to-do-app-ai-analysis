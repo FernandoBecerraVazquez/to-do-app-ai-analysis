{
  "cells": [
    {
      "cell_type": "markdown",
      "metadata": {},
      "source": [
        "# \ud83d\udcca Productivity Analysis with AI\n",
        "This notebook reads task data from `tasks_export.csv`, generates a productivity chart, and provides insights using an AI model (e.g., `llama3.1:8b` via Ollama)."
      ]
    },
    {
      "cell_type": "code",
      "execution_count": null,
      "metadata": {},
      "outputs": [],
      "source": [
        "# Step 1: Load task data\n",
        "import pandas as pd\n",
        "from datetime import datetime\n",
        "\n",
        "df = pd.read_csv(\"tasks_export.csv\")\n",
        "df[\"Created At\"] = pd.to_datetime(df[\"Created At\"])\n",
        "df[\"Completed At\"] = pd.to_datetime(df[\"Completed At\"], errors=\"coerce\")\n",
        "df.head()"
      ]
    },
    {
      "cell_type": "code",
      "execution_count": null,
      "metadata": {},
      "outputs": [],
      "source": [
        "# Step 2: Compute daily statistics\n",
        "from collections import defaultdict\n",
        "import pandas as pd\n",
        "\n",
        "created_per_day = df[\"Created At\"].dt.date.value_counts().to_dict()\n",
        "completed_per_day = df[\"Completed At\"].dropna().dt.date.value_counts().to_dict()\n",
        "\n",
        "all_dates = pd.date_range(\n",
        "    df[\"Created At\"].min().date(),\n",
        "    max(df[\"Created At\"].max(), df[\"Completed At\"].max()).date()\n",
        ")\n",
        "\n",
        "created_counts = [created_per_day.get(date.date(), 0) for date in all_dates]\n",
        "completed_counts = [completed_per_day.get(date.date(), 0) for date in all_dates]\n",
        "\n",
        "# Calculate cumulative pending tasks\n",
        "pending_counts = []\n",
        "current_pending = 0\n",
        "for c, d in zip(created_counts, completed_counts):\n",
        "    current_pending += c - d\n",
        "    pending_counts.append(max(0, current_pending))"
      ]
    },
    {
      "cell_type": "code",
      "execution_count": null,
      "metadata": {},
      "outputs": [],
      "source": [
        "# Step 3: Plot productivity trends\n",
        "import matplotlib.pyplot as plt\n",
        "from matplotlib.ticker import MaxNLocator\n",
        "\n",
        "plt.figure(figsize=(12, 6))\n",
        "plt.plot(all_dates, created_counts, label=\"Created\", marker=\"o\")\n",
        "plt.plot(all_dates, completed_counts, label=\"Completed\", marker=\"o\")\n",
        "plt.plot(all_dates, pending_counts, label=\"Pending\", linestyle=\"--\", color=\"red\")\n",
        "plt.xlabel(\"Date\")\n",
        "plt.ylabel(\"Tasks\")\n",
        "plt.title(\"Productivity Trends\")\n",
        "plt.xticks(rotation=45)\n",
        "plt.legend()\n",
        "plt.grid(True)\n",
        "plt.gca().yaxis.set_major_locator(MaxNLocator(integer=True))\n",
        "plt.tight_layout()\n",
        "plt.show()"
      ]
    },
    {
      "cell_type": "code",
      "execution_count": null,
      "metadata": {},
      "outputs": [],
      "source": [
        "# Step 4: Generate AI Insight\n",
        "import ollama\n",
        "\n",
        "total_created = sum(created_counts)\n",
        "total_completed = sum(completed_counts)\n",
        "total_pending = total_created - total_completed\n",
        "\n",
        "prompt = f\"\"\"\n",
        "Productivity Summary:\n",
        "- Tasks created: {total_created}\n",
        "- Tasks completed: {total_completed}\n",
        "- Tasks pending: {total_pending}\n",
        "\n",
        "Write a short, motivational productivity analysis.\n",
        "\"\"\"\n",
        "\n",
        "response = ollama.chat(model=\"llama3.1:8b\", messages=[{\"role\": \"user\", \"content\": prompt}])\n",
        "print(\"\u2728 AI Insight:\\n\", response[\"message\"][\"content\"])"
      ]
    }
  ],
  "metadata": {
    "kernelspec": {
      "display_name": "Python 3",
      "language": "python",
      "name": "python3"
    },
    "language_info": {
      "name": "python",
      "version": "3.11"
    }
  },
  "nbformat": 4,
  "nbformat_minor": 5
}